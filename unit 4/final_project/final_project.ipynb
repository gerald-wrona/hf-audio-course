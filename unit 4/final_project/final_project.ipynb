{
 "cells": [
  {
   "cell_type": "code",
   "execution_count": 16,
   "id": "58851f79",
   "metadata": {},
   "outputs": [
    {
     "data": {
      "application/vnd.jupyter.widget-view+json": {
       "model_id": "06697e5f92714cc9814728376f664cb1",
       "version_major": 2,
       "version_minor": 0
      },
      "text/plain": [
       "VBox(children=(HTML(value='<center> <img\\nsrc=https://huggingface.co/front/assets/huggingface_logo-noborder.sv…"
      ]
     },
     "metadata": {},
     "output_type": "display_data"
    }
   ],
   "source": [
    "# Log in to the Hub\n",
    "from collections import Counter\n",
    "from datasets import load_dataset\n",
    "from huggingface_hub import notebook_login\n",
    "\n",
    "notebook_login()"
   ]
  },
  {
   "cell_type": "markdown",
   "id": "68d675f7",
   "metadata": {},
   "source": [
    "### Getting started"
   ]
  },
  {
   "cell_type": "code",
   "execution_count": 3,
   "id": "0de581ef",
   "metadata": {},
   "outputs": [
    {
     "data": {
      "text/plain": [
       "datasets.dataset_dict.DatasetDict"
      ]
     },
     "execution_count": 3,
     "metadata": {},
     "output_type": "execute_result"
    }
   ],
   "source": [
    "gtzan = load_dataset(\"marsyas/gtzan\", \"all\")"
   ]
  },
  {
   "cell_type": "markdown",
   "id": "72c8276e",
   "metadata": {},
   "source": [
    "#### Features and number of records\n",
    "\n",
    "dataset.info.features and dataset.info.splits['your_split_name'].num_examples are my go to for huggingface datasets of type datasets.arrow_dataset.Dataset, but that doesn't work here.\n",
    "\n",
    "This data is type datasets.dataset_dict.DatasetDict, so using gtzan['train'] displays some of what we're looking for, but not the feature type or description.\n",
    "\n",
    "This data is stored so that gtzan['train']['file'] would print 999 vertically ordered filepaths showing where the data is locally stored."
   ]
  },
  {
   "cell_type": "code",
   "execution_count": 12,
   "id": "b11ab62b",
   "metadata": {},
   "outputs": [
    {
     "data": {
      "text/plain": [
       "Dataset({\n",
       "    features: ['file', 'audio', 'genre'],\n",
       "    num_rows: 999\n",
       "})"
      ]
     },
     "execution_count": 12,
     "metadata": {},
     "output_type": "execute_result"
    }
   ],
   "source": [
    "gtzan['train']"
   ]
  },
  {
   "cell_type": "code",
   "execution_count": 13,
   "id": "d1f9e42f",
   "metadata": {},
   "outputs": [
    {
     "name": "stdout",
     "output_type": "stream",
     "text": [
      "Features: \n",
      " ['file', 'audio', 'genre'] \n",
      " [<class 'str'>, <class 'dict'>, <class 'int'>]\n"
     ]
    }
   ],
   "source": [
    "first = gtzan['train'][0]\n",
    "print(\"Features:\",\n",
    "      '\\n', list(first.keys()),\n",
    "     '\\n', [type(first[i]) for i in list(first.keys())])"
   ]
  },
  {
   "cell_type": "markdown",
   "id": "5e3e3244",
   "metadata": {},
   "source": [
    "We already know that the 'file' feature corresponds to the local filepath and won't be used for modeling. \n",
    "\n",
    "'genre' is the dependent variable and 'audio' is a dictionary containing the independent variable: the audio waveform."
   ]
  },
  {
   "cell_type": "code",
   "execution_count": 15,
   "id": "c4a9c10b",
   "metadata": {},
   "outputs": [
    {
     "name": "stdout",
     "output_type": "stream",
     "text": [
      "Features in the audio dictionary: \n",
      " ['path', 'array', 'sampling_rate'] \n",
      " [<class 'str'>, <class 'numpy.ndarray'>, <class 'int'>]\n"
     ]
    }
   ],
   "source": [
    "# Expand 'audio'\n",
    "first_a = first['audio'] #path, array, sampling_rate\n",
    "print(\"Features in the audio dictionary:\",\n",
    "      '\\n', list(first_a.keys()),\n",
    "     '\\n', [type(first_a[i]) for i in list(first_a.keys())])"
   ]
  },
  {
   "cell_type": "markdown",
   "id": "3983d04c",
   "metadata": {},
   "source": [
    "## Timing\n",
    "\n",
    "The source page says all records are equal length, but I'd like to understand this for myself.\n",
    "\n",
    "Source: https://huggingface.co/datasets/marsyas/gtzan"
   ]
  },
  {
   "cell_type": "code",
   "execution_count": 22,
   "id": "94305832",
   "metadata": {},
   "outputs": [
    {
     "name": "stdout",
     "output_type": "stream",
     "text": [
      "We have 34 unique recording lengths in the data.\n",
      " \n",
      " The most common are: \n",
      " [(661794, 640), (661504, 295), (675808, 10), (661408, 5), (661676, 4)]\n"
     ]
    }
   ],
   "source": [
    "array_dims = []\n",
    "for record in gtzan['train']:\n",
    "    array_dims.append(record['audio']['array'].shape[0])\n",
    "\n",
    "dims = dict(Counter(array_dims))\n",
    "print('We have', len(dims.keys()), 'unique recording lengths in the data.\\n',\n",
    "      '\\n', 'The most common are:',\n",
    "      '\\n', Counter(array_dims).most_common(n=5))"
   ]
  },
  {
   "cell_type": "markdown",
   "id": "cc607b27",
   "metadata": {},
   "source": [
    "#### Representing length visually"
   ]
  },
  {
   "cell_type": "code",
   "execution_count": 23,
   "id": "959e528a",
   "metadata": {},
   "outputs": [
    {
     "data": {
      "image/png": "[encoded data removed]",
      "text/plain": [
       "<Figure size 640x480 with 1 Axes>"
      ]
     },
     "metadata": {},
     "output_type": "display_data"
    }
   ],
   "source": [
    "import matplotlib.pyplot as plt\n",
    "plt.hist(array_dims)\n",
    "plt.show() "
   ]
  },
  {
   "cell_type": "markdown",
   "id": "780f1cfb",
   "metadata": {},
   "source": [
    "The sampling rate is 22050, so a 30.00 seconds recording would have approximately 661,500 timesteps (or 661,500 features when converted to an array). The most common length in our data, 661,794, corresponds closely.\n",
    "\n",
    "A substantial difference would be figures less than or equal to 639,450 (29 seconds) or greater than or equal to 683,550 (31 seconds). Two records come close to the 683,550 mark, but I don't feel a strong impulse to drop them.\n",
    "\n",
    "#### Another note on timing\n",
    "\n",
    "This data was first published in 2001, so all recordings were made within or before that year and reflect the genre consensus of the time. If 'pop' here means 'popular' then it may not share features with future 'pop.'\n",
    "\n",
    "Today it's 2023 and I don't remember 2001's music very well, so I will be viewing these labels with considerable bias. They reflect the standards of a time when I had little cultural awareness. Unfortunately, the source paper does not define the genre's and expects readers to intuit their meaning. \n",
    "\n",
    "#### Last small note on genres\n",
    "\n",
    "Before reading the source paper, I was concerned that the demonstration model would struggle to distinguish between similar genres. This is entirely confirmed by the paper, so this will be our challenge as well. \n",
    "\n",
    "\n",
    "See data card for more backround (https://huggingface.co/datasets/marsyas/gtzan)."
   ]
  },
  {
   "cell_type": "markdown",
   "id": "b02049fb",
   "metadata": {},
   "source": [
    "## Sampling Rate"
   ]
  },
  {
   "cell_type": "code",
   "execution_count": 25,
   "id": "a80e2b6b",
   "metadata": {},
   "outputs": [
    {
     "name": "stdout",
     "output_type": "stream",
     "text": [
      "We have 1 unique sampling rate. \n",
      " {22050: 999}\n"
     ]
    }
   ],
   "source": [
    "from collections import Counter\n",
    "\n",
    "s_rates = []\n",
    "for record in gtzan['train']:\n",
    "    s_rates.append(record['audio']['sampling_rate'])\n",
    "\n",
    "s_rate_counts = dict(Counter(s_rates))\n",
    "print('We have', len(s_rate_counts.keys()), 'unique sampling rate.',\n",
    "      '\\n', s_rate_counts)"
   ]
  },
  {
   "cell_type": "markdown",
   "id": "ed70bcd0",
   "metadata": {},
   "source": [
    "## Genre Class Balance"
   ]
  },
  {
   "cell_type": "code",
   "execution_count": 26,
   "id": "00cadf8c",
   "metadata": {},
   "outputs": [
    {
     "data": {
      "image/png": "[encoded data removed]",
      "text/plain": [
       "<Figure size 640x480 with 1 Axes>"
      ]
     },
     "metadata": {},
     "output_type": "display_data"
    }
   ],
   "source": [
    "# What is the distribution by genre? Which classes are best represented?\n",
    "id2label_fn = gtzan[\"train\"].features[\"genre\"].int2str\n",
    "\n",
    "genres = []\n",
    "for record in gtzan['train']:\n",
    "    genres.append(id2label_fn(record['genre']))\n",
    "\n",
    "plt.hist(genres)\n",
    "plt.show() "
   ]
  },
  {
   "cell_type": "markdown",
   "id": "24628131",
   "metadata": {},
   "source": [
    "### There is no class imbalance.\n",
    "\n",
    "#### Note on genre similarity\n",
    "\n",
    "The authors define similarity as likeness of \"rhythmic structure and musical surface\" (Tzanetakis et al 2001). Said differently, they group songs based on having similar beats and similar sounds. They give the obvious example of hip hop and classical having completely dissimilar \"surfaces.\" It's easy to imagine why since those songs are produced using entirely different instruments.\n",
    "\n",
    "#### Note on new class labels\n",
    "\n",
    "Reggae, blues and metal are not included in the original paper, so they may be later additions. 'Pop' is not defined in the original paper and also isn't reported in their Genre Classification exercise. \n",
    "\n",
    "#### Note on vocals\n",
    "\n",
    "I wasn't sure if all records were instrumentation-only (or just the sample I listened to), but the paper confirms they included vocalization. They comment that pre-2001 research was able to distinguish between instruments, so using vocalization as the only feature it would be easy to distinguish hip hop and classical for example. \n",
    "\n",
    "#### Note on accuracy and genre\n",
    "\n",
    "In Tzanetakis et al the model accuracy for jazz and rock are less than 50%. They give an explanation that the \"boundaries\" for these genres are \"fuzzier\" than others. I would agree with this since rock is a genre that tends to move forward by borrowing from other genres, like how shortly after this paper punk music further diversified by borrowing pop vocalization and birthed 'pop punk.'\n",
    "\n",
    "I also think \"rock\" is a bit broad. The 'rock' of one generation is unlike the 'rock' of the next and this typically gives rise to subgenre labels (some tongue-in-cheek like \"dad rock.\") I see part of my bias is the number of genres I can name and the vast increase in genres since 2001. \n",
    "\n",
    "#### First hypothesis\n",
    "\n",
    "I want to test the hypothesis that the model used in the Huggingface example was performing poorly on certain genres because of their similarity. I hypothesize their attention-based model struggles when it has found important features that could be applied correctly to both genre labels.\n",
    "\n",
    "Sources:\n",
    "- https://huggingface.co/learn/audio-course/chapter4/fine-tuning\n",
    "- https://ismir2001.ismir.net/pdf/tzanetakis.pdf (Tzanetakis et al 2001)"
   ]
  },
  {
   "cell_type": "markdown",
   "id": "6d9f10c2",
   "metadata": {},
   "source": [
    "### Modelling"
   ]
  },
  {
   "cell_type": "markdown",
   "id": "44eb2524",
   "metadata": {},
   "source": [
    "I want to try a different kind of model based on similarity between waveforms. I think this is a simpler baseline than the transformer in the example. This kind of model does not employ attention and masking, so all features are equally important. I want to start there.  "
   ]
  },
  {
   "cell_type": "code",
   "execution_count": 9,
   "id": "1172a8f6",
   "metadata": {},
   "outputs": [
    {
     "name": "stderr",
     "output_type": "stream",
     "text": [
      "Loading cached split indices for dataset at C:\\Users\\wrona\\.cache\\huggingface\\datasets\\marsyas___gtzan\\all\\0.0.0\\701395d625fb4762c27eef42c9488d843cc15869b399f7d207b07306a8b09762\\cache-3a5659c6871516d5.arrow and C:\\Users\\wrona\\.cache\\huggingface\\datasets\\marsyas___gtzan\\all\\0.0.0\\701395d625fb4762c27eef42c9488d843cc15869b399f7d207b07306a8b09762\\cache-f88dab78a49ad137.arrow\n"
     ]
    }
   ],
   "source": [
    "# Divide the data\n",
    "gtzan = gtzan[\"train\"].train_test_split(seed=425, shuffle=True, test_size=0.1)"
   ]
  },
  {
   "cell_type": "code",
   "execution_count": 10,
   "id": "c5b1c00e",
   "metadata": {},
   "outputs": [
    {
     "ename": "NameError",
     "evalue": "name 'np' is not defined",
     "output_type": "error",
     "traceback": [
      "\u001b[1;31m---------------------------------------------------------------------------\u001b[0m",
      "\u001b[1;31mNameError\u001b[0m                                 Traceback (most recent call last)",
      "Cell \u001b[1;32mIn[10], line 7\u001b[0m\n\u001b[0;32m      1\u001b[0m \u001b[38;5;124;03m'''\u001b[39;00m\n\u001b[0;32m      2\u001b[0m \u001b[38;5;124;03mit requires a dict, so i have to update the whole things to return a dict\u001b[39;00m\n\u001b[0;32m      3\u001b[0m \u001b[38;5;124;03mif each record is also a dict (and it is), then it loops over them and needs a dict back\u001b[39;00m\n\u001b[0;32m      4\u001b[0m \n\u001b[0;32m      5\u001b[0m \u001b[38;5;124;03m'''\u001b[39;00m\n\u001b[1;32m----> 7\u001b[0m pad_to_length \u001b[38;5;241m=\u001b[39m np\u001b[38;5;241m.\u001b[39mamax(array_dims)\n\u001b[0;32m      9\u001b[0m \u001b[38;5;28;01mdef\u001b[39;00m \u001b[38;5;21mpad_silence\u001b[39m(example):\n\u001b[0;32m     10\u001b[0m     \u001b[38;5;28;01mif\u001b[39;00m example[\u001b[38;5;124m'\u001b[39m\u001b[38;5;124maudio\u001b[39m\u001b[38;5;124m'\u001b[39m][\u001b[38;5;124m'\u001b[39m\u001b[38;5;124marray\u001b[39m\u001b[38;5;124m'\u001b[39m]\u001b[38;5;241m.\u001b[39mshape[\u001b[38;5;241m0\u001b[39m] \u001b[38;5;241m==\u001b[39m pad_to_length:\n",
      "\u001b[1;31mNameError\u001b[0m: name 'np' is not defined"
     ]
    }
   ],
   "source": [
    "'''\n",
    "it requires a dict, so i have to update the whole thing to return a dict\n",
    "if each record is also a dict (and it is), then it loops over them and needs a dict back\n",
    "\n",
    "'''\n",
    "\n",
    "pad_to_length = np.amax(array_dims)\n",
    "\n",
    "def pad_silence(example):\n",
    "    if example['audio']['array'].shape[0] == pad_to_length:\n",
    "        return example['audio']['array']\n",
    "    else:\n",
    "        example['audio']['array'] = np.pad(example['audio']['array'], (np.abs(example['audio']['array'].shape[0] - pad_to_length)),mode='constant', constant_values=0)\n",
    "        return example['audio']['array']\n",
    "\n",
    "train = gtzan[\"train\"].map(pad_silence)\n",
    "train[0]['audio']['array'].shape"
   ]
  },
  {
   "cell_type": "code",
   "execution_count": 11,
   "id": "0e73dcab",
   "metadata": {},
   "outputs": [
    {
     "data": {
      "application/vnd.jupyter.widget-view+json": {
       "model_id": "0f60eebb0bab470a9596024d1b4fcd52",
       "version_major": 2,
       "version_minor": 0
      },
      "text/plain": [
       "Downloading builder script:   0%|          | 0.00/5.27k [00:00<?, ?B/s]"
      ]
     },
     "metadata": {},
     "output_type": "display_data"
    },
    {
     "data": {
      "application/vnd.jupyter.widget-view+json": {
       "model_id": "d2da637683944fac9375fee1877e5cb2",
       "version_major": 2,
       "version_minor": 0
      },
      "text/plain": [
       "Downloading metadata:   0%|          | 0.00/2.36k [00:00<?, ?B/s]"
      ]
     },
     "metadata": {},
     "output_type": "display_data"
    },
    {
     "data": {
      "application/vnd.jupyter.widget-view+json": {
       "model_id": "b98e091f73024b35887c55487b16b6fc",
       "version_major": 2,
       "version_minor": 0
      },
      "text/plain": [
       "Downloading readme:   0%|          | 0.00/7.67k [00:00<?, ?B/s]"
      ]
     },
     "metadata": {},
     "output_type": "display_data"
    },
    {
     "name": "stdout",
     "output_type": "stream",
     "text": [
      "Downloading and preparing dataset squad/plain_text to C:/Users/wrona/.cache/huggingface/datasets/squad/plain_text/1.0.0/d6ec3ceb99ca480ce37cdd35555d6cb2511d223b9150cce08a837ef62ffea453...\n"
     ]
    },
    {
     "data": {
      "application/vnd.jupyter.widget-view+json": {
       "model_id": "003281a7e3d84964916acea510a57ceb",
       "version_major": 2,
       "version_minor": 0
      },
      "text/plain": [
       "Downloading data files:   0%|          | 0/2 [00:00<?, ?it/s]"
      ]
     },
     "metadata": {},
     "output_type": "display_data"
    },
    {
     "data": {
      "application/vnd.jupyter.widget-view+json": {
       "model_id": "51b09147754740b0903fe4bcc1b182ba",
       "version_major": 2,
       "version_minor": 0
      },
      "text/plain": [
       "Downloading data:   0%|          | 0.00/8.12M [00:00<?, ?B/s]"
      ]
     },
     "metadata": {},
     "output_type": "display_data"
    },
    {
     "data": {
      "application/vnd.jupyter.widget-view+json": {
       "model_id": "54f0f0a899ed4e6c92f120b85e0cbe2f",
       "version_major": 2,
       "version_minor": 0
      },
      "text/plain": [
       "Downloading data:   0%|          | 0.00/1.05M [00:00<?, ?B/s]"
      ]
     },
     "metadata": {},
     "output_type": "display_data"
    },
    {
     "data": {
      "application/vnd.jupyter.widget-view+json": {
       "model_id": "fbcb4fb2e3534277abd3f542cb461c6d",
       "version_major": 2,
       "version_minor": 0
      },
      "text/plain": [
       "Extracting data files:   0%|          | 0/2 [00:00<?, ?it/s]"
      ]
     },
     "metadata": {},
     "output_type": "display_data"
    },
    {
     "data": {
      "application/vnd.jupyter.widget-view+json": {
       "model_id": "",
       "version_major": 2,
       "version_minor": 0
      },
      "text/plain": [
       "Generating train split:   0%|          | 0/87599 [00:00<?, ? examples/s]"
      ]
     },
     "metadata": {},
     "output_type": "display_data"
    },
    {
     "data": {
      "application/vnd.jupyter.widget-view+json": {
       "model_id": "",
       "version_major": 2,
       "version_minor": 0
      },
      "text/plain": [
       "Generating validation split:   0%|          | 0/10570 [00:00<?, ? examples/s]"
      ]
     },
     "metadata": {},
     "output_type": "display_data"
    },
    {
     "name": "stdout",
     "output_type": "stream",
     "text": [
      "Dataset squad downloaded and prepared to C:/Users/wrona/.cache/huggingface/datasets/squad/plain_text/1.0.0/d6ec3ceb99ca480ce37cdd35555d6cb2511d223b9150cce08a837ef62ffea453. Subsequent calls will reuse this data.\n"
     ]
    },
    {
     "ename": "NameError",
     "evalue": "name 'small_dataset' is not defined",
     "output_type": "error",
     "traceback": [
      "\u001b[1;31m---------------------------------------------------------------------------\u001b[0m",
      "\u001b[1;31mNameError\u001b[0m                                 Traceback (most recent call last)",
      "Cell \u001b[1;32mIn[11], line 14\u001b[0m\n\u001b[0;32m     11\u001b[0m     example[\u001b[38;5;124m\"\u001b[39m\u001b[38;5;124msentence1\u001b[39m\u001b[38;5;124m\"\u001b[39m] \u001b[38;5;241m=\u001b[39m \u001b[38;5;124m'\u001b[39m\u001b[38;5;124mMy sentence: \u001b[39m\u001b[38;5;124m'\u001b[39m \u001b[38;5;241m+\u001b[39m example[\u001b[38;5;124m\"\u001b[39m\u001b[38;5;124msentence1\u001b[39m\u001b[38;5;124m\"\u001b[39m]\n\u001b[0;32m     12\u001b[0m     \u001b[38;5;28;01mreturn\u001b[39;00m example\n\u001b[1;32m---> 14\u001b[0m updated_dataset \u001b[38;5;241m=\u001b[39m small_dataset\u001b[38;5;241m.\u001b[39mmap(add_prefix)\n\u001b[0;32m     15\u001b[0m updated_dataset[\u001b[38;5;124m\"\u001b[39m\u001b[38;5;124msentence1\u001b[39m\u001b[38;5;124m\"\u001b[39m][:\u001b[38;5;241m5\u001b[39m]\n",
      "\u001b[1;31mNameError\u001b[0m: name 'small_dataset' is not defined"
     ]
    }
   ],
   "source": [
    "#### EXAMPLE\n",
    "\n",
    "from datasets import load_dataset\n",
    "dataset = load_dataset(\"squad\", split=\"train\")\n",
    "dataset.features\n",
    "\n",
    "flat_dataset = dataset.flatten()\n",
    "flat_dataset\n",
    "\n",
    "def add_prefix(example):\n",
    "    example[\"sentence1\"] = 'My sentence: ' + example[\"sentence1\"]\n",
    "    return example\n",
    "\n",
    "updated_dataset = small_dataset.map(add_prefix)\n",
    "updated_dataset[\"sentence1\"][:5]"
   ]
  },
  {
   "cell_type": "code",
   "execution_count": null,
   "id": "a76f7f6f",
   "metadata": {},
   "outputs": [],
   "source": []
  },
  {
   "cell_type": "code",
   "execution_count": null,
   "id": "78d3483a",
   "metadata": {},
   "outputs": [],
   "source": []
  },
  {
   "cell_type": "code",
   "execution_count": null,
   "id": "1c8ad619",
   "metadata": {},
   "outputs": [],
   "source": [
    "updated_dataset = small_dataset.map(add_prefix)\n",
    "updated_dataset[\"sentence1\"][:5]"
   ]
  },
  {
   "cell_type": "code",
   "execution_count": null,
   "id": "1c3715d0",
   "metadata": {},
   "outputs": [],
   "source": [
    "list(range(len(gtzan[\"train\"])+1))"
   ]
  },
  {
   "cell_type": "code",
   "execution_count": 49,
   "id": "7e81143c",
   "metadata": {},
   "outputs": [
    {
     "name": "stdout",
     "output_type": "stream",
     "text": [
      "Done. OOB\n"
     ]
    }
   ],
   "source": [
    "# Pad arrays to equal length\n",
    "pad_to_length = np.amax(array_dims)\n",
    "\n",
    "for i in range(len(gtzan[\"train\"])+1):\n",
    "    try:\n",
    "        gtzan[\"train\"][i]['audio']['array'] = np.pad(gtzan[\"train\"][i]['audio']['array'], (np.abs(gtzan[\"train\"][i]['audio']['array'].shape[0] - pad_to_length)),mode='constant', constant_values=0)\n",
    "    except:\n",
    "        print('Done. OOB')"
   ]
  },
  {
   "cell_type": "code",
   "execution_count": 54,
   "id": "e7908ec4",
   "metadata": {},
   "outputs": [
    {
     "data": {
      "text/plain": [
       "(661794,)"
      ]
     },
     "execution_count": 54,
     "metadata": {},
     "output_type": "execute_result"
    }
   ],
   "source": [
    "gtzan[\"train\"][0]['audio']['array'].shape"
   ]
  },
  {
   "cell_type": "code",
   "execution_count": 55,
   "id": "4876fc1a",
   "metadata": {},
   "outputs": [
    {
     "data": {
      "text/plain": [
       "675808"
      ]
     },
     "execution_count": 55,
     "metadata": {},
     "output_type": "execute_result"
    }
   ],
   "source": [
    "np.amax(array_dims)"
   ]
  },
  {
   "cell_type": "code",
   "execution_count": 51,
   "id": "3e5de9c6",
   "metadata": {},
   "outputs": [
    {
     "name": "stdout",
     "output_type": "stream",
     "text": [
      "0 1\n",
      "0 2\n"
     ]
    },
    {
     "ename": "ValueError",
     "evalue": "operands could not be broadcast together with shapes (661794,) (661504,) ",
     "output_type": "error",
     "traceback": [
      "\u001b[1;31m---------------------------------------------------------------------------\u001b[0m",
      "\u001b[1;31mValueError\u001b[0m                                Traceback (most recent call last)",
      "Cell \u001b[1;32mIn[51], line 10\u001b[0m\n\u001b[0;32m      8\u001b[0m \u001b[38;5;28;01mfor\u001b[39;00m j \u001b[38;5;129;01min\u001b[39;00m \u001b[38;5;28mrange\u001b[39m(\u001b[38;5;241m1\u001b[39m,ts_records\u001b[38;5;241m+\u001b[39m\u001b[38;5;241m1\u001b[39m):\n\u001b[0;32m      9\u001b[0m     \u001b[38;5;28mprint\u001b[39m(i,j)\n\u001b[1;32m---> 10\u001b[0m     pairwise_l2_norms[(i,j)] \u001b[38;5;241m=\u001b[39m LA\u001b[38;5;241m.\u001b[39mnorm(train_set[i][\u001b[38;5;124m'\u001b[39m\u001b[38;5;124maudio\u001b[39m\u001b[38;5;124m'\u001b[39m][\u001b[38;5;124m'\u001b[39m\u001b[38;5;124marray\u001b[39m\u001b[38;5;124m'\u001b[39m] \u001b[38;5;241m-\u001b[39m train_set[j][\u001b[38;5;124m'\u001b[39m\u001b[38;5;124maudio\u001b[39m\u001b[38;5;124m'\u001b[39m][\u001b[38;5;124m'\u001b[39m\u001b[38;5;124marray\u001b[39m\u001b[38;5;124m'\u001b[39m])\n",
      "\u001b[1;31mValueError\u001b[0m: operands could not be broadcast together with shapes (661794,) (661504,) "
     ]
    }
   ],
   "source": [
    "from numpy import linalg as LA\n",
    "\n",
    "train_set = gtzan['train']\n",
    "ts_records = len(train_set)\n",
    "pairwise_l2_norms = {}\n",
    "\n",
    "for i in range(ts_records+1):\n",
    "    for j in range(1,ts_records+1):\n",
    "        print(i,j)\n",
    "        pairwise_l2_norms[(i,j)] = LA.norm(train_set[i]['audio']['array'] - train_set[j]['audio']['array'])\n"
   ]
  },
  {
   "cell_type": "code",
   "execution_count": 42,
   "id": "775fa952",
   "metadata": {},
   "outputs": [
    {
     "data": {
      "text/plain": [
       "99.65081412195062"
      ]
     },
     "execution_count": 42,
     "metadata": {},
     "output_type": "execute_result"
    }
   ],
   "source": [
    "LA.norm(gtzan['train'][0]['audio']['array'] - gtzan['train'][1]['audio']['array'])"
   ]
  },
  {
   "cell_type": "code",
   "execution_count": 53,
   "id": "1ef6b2a8",
   "metadata": {},
   "outputs": [
    {
     "data": {
      "text/plain": [
       "809"
      ]
     },
     "execution_count": 53,
     "metadata": {},
     "output_type": "execute_result"
    }
   ],
   "source": [
    "len(gtzan['train'])"
   ]
  },
  {
   "cell_type": "code",
   "execution_count": null,
   "id": "e2085ff7",
   "metadata": {},
   "outputs": [],
   "source": [
    "# Evaluation\n",
    "import evaluate\n",
    "\n",
    "accuracy = evaluate.load(\"accuracy\")"
   ]
  }
 ],
 "metadata": {
  "kernelspec": {
   "display_name": "Python 3 (ipykernel)",
   "language": "python",
   "name": "python3"
  },
  "language_info": {
   "codemirror_mode": {
    "name": "ipython",
    "version": 3
   },
   "file_extension": ".py",
   "mimetype": "text/x-python",
   "name": "python",
   "nbconvert_exporter": "python",
   "pygments_lexer": "ipython3",
   "version": "3.11.5"
  }
 },
 "nbformat": 4,
 "nbformat_minor": 5
}
